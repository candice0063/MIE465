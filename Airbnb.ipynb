{
 "cells": [
  {
   "cell_type": "markdown",
   "metadata": {},
   "source": [
    "# Problem Statement\n",
    "In Toronto, many families choose to become an Airbnb host to compensate their realty mortgage cost. When searching for a cozy temporary home, people choose hosts based on a variety of reasons, for example hosts with most reviews, beautiful staging pictures, reasonable prices and much more. However, not every host is good at promoting their homes, or they can be inexperienced at hospitality that drives their reviews down and hurt their revenue. Our project aims to help those bottoms of the list stay afloat in Airbnb business, finding what are possible factors driving their occupancy rate and review scores.  \n",
    "# Data\n",
    "### Key Variables\n",
    "**Listing features**: First date since host went live, Response time range, Response percentage, Airbnb authorized superhost, # of listing owned by host, Types of verification needed from guests, if host has profile picture, if host identity is verified, neighborhood, location, property type, room type, default number of guests, # of bathrooms, # of bedrooms, # of beds, bed type, amenities, price, cleaning fee, fee for extra people, minimum and maximum nights, cancellation policy, if require guest picture, if require guest phone verification.\n",
    "\n",
    "**Review features**: Total number of reviews, last review date, review score rating, accuracy score, cleanliness score, check-in score, communication score, location score, value score, if instant bookable.\n",
    "\n",
    "**Target variable**: Occupancy index = Reviews per month * Review score rating.\n",
    "\n",
    "Airbnb as a “Sharing Economy” company scrapes their own database of reviews, listings and calendars on a monthly basis, and posted on Inside Airbnb (insideairbnb.com). We will focus on listing data which contains up-to-date review scores, review counts and hosts’ listing features. From there, we can study what is actually impacting listing popularity and scores. \n",
    "\n",
    "However occupancy is not provided in the dataset due to privacy reasons, we chose to create an indicator of reviews per month * review scores rating. Although reviews per month does not equals to occupancy rate, but it is still an indicator of the listing popularity. \n",
    "# Methods\n",
    "After feature engineering including one-hot encoding on categorical variables and nested-lists, we have more than 400 features created for this model. To avoid overfitting and multicollinearity, we used L1, L2 and Elastic Net regression for variable selection and obtain feature importance. For loss function, we chose Rooted Mean Squared Error (RMSE) because it is widely used in regression. And then we will move on to more robust modeling methods such as decision tree, random forest and xgboost, etc. We could move back to data engineering to create more features or find more outside data to support our model.\n"
   ]
  },
  {
   "cell_type": "markdown",
   "metadata": {},
   "source": [
    "## Loading data and data engineering"
   ]
  },
  {
   "cell_type": "code",
   "execution_count": 744,
   "metadata": {},
   "outputs": [],
   "source": [
    "import pandas as pd\n",
    "import numpy as np\n",
    "import ast\n",
    "from decimal import Decimal\n",
    "from datetime import timedelta, datetime\n",
    "from sklearn.preprocessing import MultiLabelBinarizer\n",
    "import matplotlib\n",
    "import matplotlib.pyplot as plt"
   ]
  },
  {
   "cell_type": "code",
   "execution_count": 745,
   "metadata": {},
   "outputs": [],
   "source": [
    "listing = pd.read_csv('listings.csv', index_col = \"id\", low_memory = False)"
   ]
  },
  {
   "cell_type": "code",
   "execution_count": 746,
   "metadata": {},
   "outputs": [
    {
     "data": {
      "text/html": [
       "<div>\n",
       "<style scoped>\n",
       "    .dataframe tbody tr th:only-of-type {\n",
       "        vertical-align: middle;\n",
       "    }\n",
       "\n",
       "    .dataframe tbody tr th {\n",
       "        vertical-align: top;\n",
       "    }\n",
       "\n",
       "    .dataframe thead th {\n",
       "        text-align: right;\n",
       "    }\n",
       "</style>\n",
       "<table border=\"1\" class=\"dataframe\">\n",
       "  <thead>\n",
       "    <tr style=\"text-align: right;\">\n",
       "      <th></th>\n",
       "      <th>listing_url</th>\n",
       "      <th>scrape_id</th>\n",
       "      <th>last_scraped</th>\n",
       "      <th>name</th>\n",
       "      <th>summary</th>\n",
       "      <th>space</th>\n",
       "      <th>description</th>\n",
       "      <th>experiences_offered</th>\n",
       "      <th>neighborhood_overview</th>\n",
       "      <th>notes</th>\n",
       "      <th>...</th>\n",
       "      <th>requires_license</th>\n",
       "      <th>license</th>\n",
       "      <th>jurisdiction_names</th>\n",
       "      <th>instant_bookable</th>\n",
       "      <th>is_business_travel_ready</th>\n",
       "      <th>cancellation_policy</th>\n",
       "      <th>require_guest_profile_picture</th>\n",
       "      <th>require_guest_phone_verification</th>\n",
       "      <th>calculated_host_listings_count</th>\n",
       "      <th>reviews_per_month</th>\n",
       "    </tr>\n",
       "    <tr>\n",
       "      <th>id</th>\n",
       "      <th></th>\n",
       "      <th></th>\n",
       "      <th></th>\n",
       "      <th></th>\n",
       "      <th></th>\n",
       "      <th></th>\n",
       "      <th></th>\n",
       "      <th></th>\n",
       "      <th></th>\n",
       "      <th></th>\n",
       "      <th></th>\n",
       "      <th></th>\n",
       "      <th></th>\n",
       "      <th></th>\n",
       "      <th></th>\n",
       "      <th></th>\n",
       "      <th></th>\n",
       "      <th></th>\n",
       "      <th></th>\n",
       "      <th></th>\n",
       "      <th></th>\n",
       "    </tr>\n",
       "  </thead>\n",
       "  <tbody>\n",
       "    <tr>\n",
       "      <th>1419</th>\n",
       "      <td>https://www.airbnb.com/rooms/1419</td>\n",
       "      <td>20181206023116</td>\n",
       "      <td>2018-12-06</td>\n",
       "      <td>Beautiful home in amazing area!</td>\n",
       "      <td>This large, family home is located in one of T...</td>\n",
       "      <td>Visit Toronto with this fabulous furnished hom...</td>\n",
       "      <td>This large, family home is located in one of T...</td>\n",
       "      <td>none</td>\n",
       "      <td>The apartment is located in the Ossington stri...</td>\n",
       "      <td>To learn a little more about our home, see: (U...</td>\n",
       "      <td>...</td>\n",
       "      <td>f</td>\n",
       "      <td>NaN</td>\n",
       "      <td>NaN</td>\n",
       "      <td>f</td>\n",
       "      <td>f</td>\n",
       "      <td>strict_14_with_grace_period</td>\n",
       "      <td>f</td>\n",
       "      <td>f</td>\n",
       "      <td>1</td>\n",
       "      <td>0.17</td>\n",
       "    </tr>\n",
       "    <tr>\n",
       "      <th>8077</th>\n",
       "      <td>https://www.airbnb.com/rooms/8077</td>\n",
       "      <td>20181206023116</td>\n",
       "      <td>2018-12-06</td>\n",
       "      <td>Downtown Harbourfront Private Room</td>\n",
       "      <td>Guest room in a luxury condo with access to al...</td>\n",
       "      <td>My husband and I are both artists. I give pain...</td>\n",
       "      <td>Guest room in a luxury condo with access to al...</td>\n",
       "      <td>none</td>\n",
       "      <td>NaN</td>\n",
       "      <td>NaN</td>\n",
       "      <td>...</td>\n",
       "      <td>f</td>\n",
       "      <td>NaN</td>\n",
       "      <td>NaN</td>\n",
       "      <td>t</td>\n",
       "      <td>f</td>\n",
       "      <td>strict_14_with_grace_period</td>\n",
       "      <td>f</td>\n",
       "      <td>t</td>\n",
       "      <td>2</td>\n",
       "      <td>1.50</td>\n",
       "    </tr>\n",
       "    <tr>\n",
       "      <th>10314</th>\n",
       "      <td>https://www.airbnb.com/rooms/10314</td>\n",
       "      <td>20181206023116</td>\n",
       "      <td>2018-12-06</td>\n",
       "      <td>Union Inn II (Leslieville)</td>\n",
       "      <td>We offer a private room for two with a queen b...</td>\n",
       "      <td>The 'union inn' offers a clean, spacious room ...</td>\n",
       "      <td>We offer a private room for two with a queen b...</td>\n",
       "      <td>none</td>\n",
       "      <td>Our charming adopted home of Leslieville is a ...</td>\n",
       "      <td>Clean towels, a hair dryer, soap and sanitary ...</td>\n",
       "      <td>...</td>\n",
       "      <td>f</td>\n",
       "      <td>NaN</td>\n",
       "      <td>NaN</td>\n",
       "      <td>f</td>\n",
       "      <td>f</td>\n",
       "      <td>moderate</td>\n",
       "      <td>f</td>\n",
       "      <td>f</td>\n",
       "      <td>1</td>\n",
       "      <td>0.68</td>\n",
       "    </tr>\n",
       "    <tr>\n",
       "      <th>12604</th>\n",
       "      <td>https://www.airbnb.com/rooms/12604</td>\n",
       "      <td>20181206023116</td>\n",
       "      <td>2018-12-06</td>\n",
       "      <td>Seaton Village Parlour Bedroom</td>\n",
       "      <td>Comfortable sofa bed in airy main floor parlour.</td>\n",
       "      <td>Family of 4 (2 kids)  plus a friendly dog open...</td>\n",
       "      <td>Comfortable sofa bed in airy main floor parlou...</td>\n",
       "      <td>none</td>\n",
       "      <td>NaN</td>\n",
       "      <td>NaN</td>\n",
       "      <td>...</td>\n",
       "      <td>f</td>\n",
       "      <td>NaN</td>\n",
       "      <td>NaN</td>\n",
       "      <td>f</td>\n",
       "      <td>f</td>\n",
       "      <td>moderate</td>\n",
       "      <td>f</td>\n",
       "      <td>f</td>\n",
       "      <td>1</td>\n",
       "      <td>NaN</td>\n",
       "    </tr>\n",
       "    <tr>\n",
       "      <th>23691</th>\n",
       "      <td>https://www.airbnb.com/rooms/23691</td>\n",
       "      <td>20181206023116</td>\n",
       "      <td>2018-12-06</td>\n",
       "      <td>Queen Bedroom close to downtown</td>\n",
       "      <td>NaN</td>\n",
       "      <td>Nestled in the middle of a quiet residential n...</td>\n",
       "      <td>Nestled in the middle of a quiet residential n...</td>\n",
       "      <td>none</td>\n",
       "      <td>NaN</td>\n",
       "      <td>* Laundry facilities are available at the prem...</td>\n",
       "      <td>...</td>\n",
       "      <td>f</td>\n",
       "      <td>NaN</td>\n",
       "      <td>NaN</td>\n",
       "      <td>t</td>\n",
       "      <td>f</td>\n",
       "      <td>strict_14_with_grace_period</td>\n",
       "      <td>f</td>\n",
       "      <td>f</td>\n",
       "      <td>2</td>\n",
       "      <td>1.99</td>\n",
       "    </tr>\n",
       "  </tbody>\n",
       "</table>\n",
       "<p>5 rows × 95 columns</p>\n",
       "</div>"
      ],
      "text/plain": [
       "                              listing_url       scrape_id last_scraped  \\\n",
       "id                                                                       \n",
       "1419    https://www.airbnb.com/rooms/1419  20181206023116   2018-12-06   \n",
       "8077    https://www.airbnb.com/rooms/8077  20181206023116   2018-12-06   \n",
       "10314  https://www.airbnb.com/rooms/10314  20181206023116   2018-12-06   \n",
       "12604  https://www.airbnb.com/rooms/12604  20181206023116   2018-12-06   \n",
       "23691  https://www.airbnb.com/rooms/23691  20181206023116   2018-12-06   \n",
       "\n",
       "                                     name  \\\n",
       "id                                          \n",
       "1419      Beautiful home in amazing area!   \n",
       "8077   Downtown Harbourfront Private Room   \n",
       "10314          Union Inn II (Leslieville)   \n",
       "12604      Seaton Village Parlour Bedroom   \n",
       "23691     Queen Bedroom close to downtown   \n",
       "\n",
       "                                                 summary  \\\n",
       "id                                                         \n",
       "1419   This large, family home is located in one of T...   \n",
       "8077   Guest room in a luxury condo with access to al...   \n",
       "10314  We offer a private room for two with a queen b...   \n",
       "12604   Comfortable sofa bed in airy main floor parlour.   \n",
       "23691                                                NaN   \n",
       "\n",
       "                                                   space  \\\n",
       "id                                                         \n",
       "1419   Visit Toronto with this fabulous furnished hom...   \n",
       "8077   My husband and I are both artists. I give pain...   \n",
       "10314  The 'union inn' offers a clean, spacious room ...   \n",
       "12604  Family of 4 (2 kids)  plus a friendly dog open...   \n",
       "23691  Nestled in the middle of a quiet residential n...   \n",
       "\n",
       "                                             description experiences_offered  \\\n",
       "id                                                                             \n",
       "1419   This large, family home is located in one of T...                none   \n",
       "8077   Guest room in a luxury condo with access to al...                none   \n",
       "10314  We offer a private room for two with a queen b...                none   \n",
       "12604  Comfortable sofa bed in airy main floor parlou...                none   \n",
       "23691  Nestled in the middle of a quiet residential n...                none   \n",
       "\n",
       "                                   neighborhood_overview  \\\n",
       "id                                                         \n",
       "1419   The apartment is located in the Ossington stri...   \n",
       "8077                                                 NaN   \n",
       "10314  Our charming adopted home of Leslieville is a ...   \n",
       "12604                                                NaN   \n",
       "23691                                                NaN   \n",
       "\n",
       "                                                   notes        ...         \\\n",
       "id                                                              ...          \n",
       "1419   To learn a little more about our home, see: (U...        ...          \n",
       "8077                                                 NaN        ...          \n",
       "10314  Clean towels, a hair dryer, soap and sanitary ...        ...          \n",
       "12604                                                NaN        ...          \n",
       "23691  * Laundry facilities are available at the prem...        ...          \n",
       "\n",
       "      requires_license license jurisdiction_names instant_bookable  \\\n",
       "id                                                                   \n",
       "1419                 f     NaN                NaN                f   \n",
       "8077                 f     NaN                NaN                t   \n",
       "10314                f     NaN                NaN                f   \n",
       "12604                f     NaN                NaN                f   \n",
       "23691                f     NaN                NaN                t   \n",
       "\n",
       "       is_business_travel_ready          cancellation_policy  \\\n",
       "id                                                             \n",
       "1419                          f  strict_14_with_grace_period   \n",
       "8077                          f  strict_14_with_grace_period   \n",
       "10314                         f                     moderate   \n",
       "12604                         f                     moderate   \n",
       "23691                         f  strict_14_with_grace_period   \n",
       "\n",
       "      require_guest_profile_picture  require_guest_phone_verification  \\\n",
       "id                                                                      \n",
       "1419                              f                                 f   \n",
       "8077                              f                                 t   \n",
       "10314                             f                                 f   \n",
       "12604                             f                                 f   \n",
       "23691                             f                                 f   \n",
       "\n",
       "       calculated_host_listings_count reviews_per_month  \n",
       "id                                                       \n",
       "1419                                1              0.17  \n",
       "8077                                2              1.50  \n",
       "10314                               1              0.68  \n",
       "12604                               1               NaN  \n",
       "23691                               2              1.99  \n",
       "\n",
       "[5 rows x 95 columns]"
      ]
     },
     "execution_count": 746,
     "metadata": {},
     "output_type": "execute_result"
    }
   ],
   "source": [
    "listing.head()"
   ]
  },
  {
   "cell_type": "markdown",
   "metadata": {},
   "source": [
    "## Cherry pick valueble independent variables\n",
    "| colname                          | description                         |\n",
    "|----------------------------------|-------------------------------------|\n",
    "| host_since                       | First date since host went live     |\n",
    "| host_response_time               | Response time range                 |\n",
    "| host_response_rate               | Response percentage                 |\n",
    "| host_is_superhost                | Airbnb authorized superhost T/F     |\n",
    "| host_listings_count              | # of listing owned by host          |\n",
    "| host_verifications               | Types of verification needed from guests        |\n",
    "| host_has_profile_pic             | T/F                                 |\n",
    "| host_identity_verified           | T/F                                 |\n",
    "| neighbourhood_cleansed           | Sub-region of Toronto               |\n",
    "| smart_location                   | Cleaned city location               |\n",
    "| is_location_exact                | T/F                                 |\n",
    "| property_type                    | House/Condo/etc                     |\n",
    "| room_type                        | Private/Share                       |\n",
    "| accommodates                     | max guests                          |\n",
    "| bathrooms                        | # of bathrooms                      |\n",
    "| bedrooms                         | # of bedrooms                       |\n",
    "| beds                             | # of beds                           |\n",
    "| bed_type                         | bed/sofa/etc                        |\n",
    "| amenities                        | TV/internet/etc                     |\n",
    "| price                            | One-day price                       |\n",
    "| weekly_price                     |                                     |\n",
    "| monthly_price                    |                                     |\n",
    "| security_deposit                 |                                     |\n",
    "| cleaning_fee                     |                                     |\n",
    "| guests_included                  | default allowed guest number        |\n",
    "| extra_people                     | cost of additional people per night |\n",
    "| minimum_nights                   |                                     |\n",
    "| maximum_nights                   |                                     |\n",
    "| number_of_reviews                | Total number of reviews             |\n",
    "| last_review                      | Date of latest review               |\n",
    "| review_scores_rating             | 0-100                               |\n",
    "| review_scores_accuracy           | 2-10                                |\n",
    "| review_scores_cleanliness        | 2-10                                |\n",
    "| review_scores_checkin            | 2-10                                |\n",
    "| review_scores_communication      | 2-10                                |\n",
    "| review_scores_location           | 2-10                                |\n",
    "| review_scores_value              | 2-10                                |\n",
    "| instant_bookable                 | T/F                                 |\n",
    "| cancellation_policy              | moderate/strict/etc                 |\n",
    "| require_guest_profile_picture    | T/F                                 |\n",
    "| require_guest_phone_verification | T/F                                 |\n",
    "| reviews_per_month                | 0-30                                |"
   ]
  },
  {
   "cell_type": "code",
   "execution_count": 747,
   "metadata": {},
   "outputs": [],
   "source": [
    "sub_colnames = ['host_since', 'host_response_time', 'host_response_rate', 'host_is_superhost', 'host_listings_count', 'host_verifications', 'host_has_profile_pic', 'host_identity_verified', 'neighbourhood_cleansed', 'smart_location', 'is_location_exact', 'property_type', 'room_type', 'accommodates', 'bathrooms', 'bedrooms', 'beds', 'bed_type', 'amenities', 'price', 'weekly_price', 'monthly_price', 'security_deposit', 'cleaning_fee', 'guests_included', 'extra_people', 'minimum_nights', 'maximum_nights', 'last_review', 'review_scores_rating', 'review_scores_accuracy', 'review_scores_cleanliness', 'review_scores_checkin', 'review_scores_communication', 'review_scores_location', 'review_scores_value', 'instant_bookable', 'cancellation_policy', 'require_guest_profile_picture', 'require_guest_phone_verification', 'reviews_per_month']"
   ]
  },
  {
   "cell_type": "code",
   "execution_count": 748,
   "metadata": {},
   "outputs": [
    {
     "name": "stdout",
     "output_type": "stream",
     "text": [
      "Total Rows: 19255\n"
     ]
    }
   ],
   "source": [
    "Airbnb = listing[sub_colnames]\n",
    "print('Total Rows:', Airbnb.shape[0])"
   ]
  },
  {
   "cell_type": "code",
   "execution_count": 749,
   "metadata": {},
   "outputs": [
    {
     "name": "stdout",
     "output_type": "stream",
     "text": [
      "Total Rows After Dropping NA: 9447\n"
     ]
    }
   ],
   "source": [
    "# Drop NA\n",
    "Airbnb = Airbnb.dropna(subset = ['host_response_time', 'host_response_rate', 'host_is_superhost', 'reviews_per_month', 'review_scores_rating'])\n",
    "print('Total Rows After Dropping NA:', Airbnb.shape[0])"
   ]
  },
  {
   "cell_type": "markdown",
   "metadata": {},
   "source": [
    "### Basic Data Cleaning\n",
    "Turn percentage to float and turn Ture/False to 1 or 0"
   ]
  },
  {
   "cell_type": "code",
   "execution_count": 750,
   "metadata": {},
   "outputs": [],
   "source": [
    "# Percentage to float\n",
    "Airbnb['host_response_rate'] = Airbnb.host_response_rate.str.rstrip('%').astype('float')\n",
    "# True or False to 1 or 0\n",
    "Airbnb[['host_is_superhost', 'host_has_profile_pic', 'host_identity_verified', 'is_location_exact', 'instant_bookable', 'require_guest_profile_picture', 'require_guest_phone_verification']] = Airbnb[['host_is_superhost', 'host_has_profile_pic', 'host_identity_verified', 'is_location_exact', 'instant_bookable', 'require_guest_profile_picture', 'require_guest_phone_verification']].eq('t').mul(1)"
   ]
  },
  {
   "cell_type": "code",
   "execution_count": 751,
   "metadata": {},
   "outputs": [],
   "source": [
    "# Convert currency to float\n",
    "Airbnb['price'] = pd.to_numeric(Airbnb['price'].str.lstrip('$').str.replace(\",\",\"\"))\n",
    "Airbnb['weekly_price'] = pd.to_numeric(Airbnb['weekly_price'].str.lstrip('$').str.replace(\",\",\"\"))\n",
    "Airbnb['monthly_price'] = pd.to_numeric(Airbnb['monthly_price'].str.lstrip('$').str.replace(\",\",\"\"))\n",
    "Airbnb['security_deposit'] = pd.to_numeric(Airbnb['security_deposit'].str.lstrip('$').str.replace(\",\",\"\"))\n",
    "Airbnb['cleaning_fee'] = pd.to_numeric(Airbnb['cleaning_fee'].str.lstrip('$').str.replace(\",\",\"\"))\n",
    "Airbnb['extra_people'] = pd.to_numeric(Airbnb['extra_people'].str.lstrip('$').str.replace(\",\",\"\"))"
   ]
  },
  {
   "cell_type": "code",
   "execution_count": 752,
   "metadata": {},
   "outputs": [],
   "source": [
    "Airbnb['weekly_price'].fillna(Airbnb['price']*7, inplace = True)\n",
    "Airbnb['monthly_price'].fillna(Airbnb['price']*30, inplace = True)\n",
    "Airbnb['security_deposit'].fillna(0, inplace = True)\n",
    "Airbnb['cleaning_fee'].fillna(0, inplace = True)"
   ]
  },
  {
   "cell_type": "markdown",
   "metadata": {},
   "source": [
    "### Turn host_since to length of years of hosting and last_review to length of months"
   ]
  },
  {
   "cell_type": "code",
   "execution_count": 753,
   "metadata": {},
   "outputs": [],
   "source": [
    "Airbnb['host_since'] = pd.to_datetime(Airbnb['host_since'], format = '%Y-%m-%d')\n",
    "Airbnb['host_years'] = (datetime.strptime('2018-12-06', '%Y-%m-%d') - Airbnb['host_since']) / timedelta(days = 365)\n",
    "Airbnb.drop(columns = 'host_since', axis = 1, inplace = True)"
   ]
  },
  {
   "cell_type": "code",
   "execution_count": 754,
   "metadata": {},
   "outputs": [],
   "source": [
    "Airbnb['last_review'] = pd.to_datetime(Airbnb['last_review'], format = '%Y-%m-%d')\n",
    "Airbnb['months_since_last_review'] = (datetime.strptime('2018-12-06', '%Y-%m-%d') - Airbnb['last_review']) / timedelta(days = 30)\n",
    "Airbnb.drop(columns = 'last_review', axis = 1, inplace = True)"
   ]
  },
  {
   "cell_type": "markdown",
   "metadata": {},
   "source": [
    "### One-hot encoding for nested lists: host_verifications and amenities\n",
    "```\n",
    "https://stackoverflow.com/questions/45312377/how-to-one-hot-encode-from-a-pandas-column-containing-a-list\n",
    "```"
   ]
  },
  {
   "cell_type": "code",
   "execution_count": 755,
   "metadata": {},
   "outputs": [],
   "source": [
    "mlb = MultiLabelBinarizer()\n",
    "Airbnb['host_verifications'] = Airbnb['host_verifications'].apply(ast.literal_eval)\n",
    "Airbnb = Airbnb.join(pd.DataFrame(mlb.fit_transform(Airbnb.pop('host_verifications')),\n",
    "                          columns=mlb.classes_,\n",
    "                          index=Airbnb.index))"
   ]
  },
  {
   "cell_type": "code",
   "execution_count": 756,
   "metadata": {},
   "outputs": [],
   "source": [
    "# Formatting\n",
    "Airbnb['amenities'] = Airbnb['amenities'].str.replace(\"{\",\"\")\n",
    "Airbnb['amenities'] = Airbnb['amenities'].str.replace(\"}\",\"\")\n",
    "Airbnb['amenities'] = Airbnb['amenities'].str.replace('\"', '')\n",
    "Airbnb['amenities'] = Airbnb['amenities'].str.replace(\" \", \"\")\n",
    "Airbnb['amenities'] = Airbnb['amenities'].str.replace(',', ' ')\n",
    "Airbnb['amenities'] = Airbnb['amenities'].str.split()\n",
    "Airbnb['amenities_count'] = Airbnb['amenities'].apply(len)"
   ]
  },
  {
   "cell_type": "code",
   "execution_count": 757,
   "metadata": {},
   "outputs": [],
   "source": [
    "mlb = MultiLabelBinarizer()\n",
    "Airbnb = Airbnb.join(pd.DataFrame(mlb.fit_transform(Airbnb.pop('amenities')),\n",
    "                          columns=mlb.classes_,\n",
    "                          index=Airbnb.index))"
   ]
  },
  {
   "cell_type": "markdown",
   "metadata": {},
   "source": [
    "### One-hot encoding for categorical data"
   ]
  },
  {
   "cell_type": "code",
   "execution_count": 758,
   "metadata": {},
   "outputs": [],
   "source": [
    "Airbnb = pd.get_dummies(Airbnb, prefix = ['host_response_time','neighbourhood','smart_location','property_type','room_type', 'bed_type', 'cancellation_policy'], columns = ['host_response_time','neighbourhood_cleansed','smart_location','property_type', 'room_type', 'bed_type', 'cancellation_policy'])"
   ]
  },
  {
   "cell_type": "markdown",
   "metadata": {},
   "source": [
    "### Adding price_per_guest attribute into Airbnb"
   ]
  },
  {
   "cell_type": "code",
   "execution_count": 759,
   "metadata": {},
   "outputs": [],
   "source": [
    "Airbnb['price_per_guest'] = Airbnb['price'] / Airbnb['guests_included']\n",
    "Airbnb.drop('price', axis = 1, inplace = True)"
   ]
  },
  {
   "cell_type": "markdown",
   "metadata": {},
   "source": [
    "### Adding Occupancy_index as target variable"
   ]
  },
  {
   "cell_type": "code",
   "execution_count": 760,
   "metadata": {},
   "outputs": [],
   "source": [
    "Airbnb['Occupancy_index'] = Airbnb['reviews_per_month'] * Airbnb['review_scores_rating']\n",
    "Airbnb.drop(['reviews_per_month', 'review_scores_rating'], axis = 1, inplace = True)"
   ]
  },
  {
   "cell_type": "code",
   "execution_count": 761,
   "metadata": {},
   "outputs": [],
   "source": [
    "listing['Occupancy_index'] = listing['reviews_per_month'] * listing['review_scores_rating']"
   ]
  },
  {
   "cell_type": "markdown",
   "metadata": {},
   "source": [
    "## Exploring the data\n",
    "visualize the data with a histogram."
   ]
  },
  {
   "cell_type": "code",
   "execution_count": 762,
   "metadata": {},
   "outputs": [],
   "source": [
    "listing = listing.loc[Airbnb.index]"
   ]
  },
  {
   "cell_type": "code",
   "execution_count": 763,
   "metadata": {},
   "outputs": [
    {
     "data": {
      "image/png": "[encoded data removed]",
      "text/plain": [
       "<Figure size 360x360 with 1 Axes>"
      ]
     },
     "metadata": {},
     "output_type": "display_data"
    }
   ],
   "source": [
    "listing[['review_scores_rating']].plot.hist(bins=20)\n",
    "plt.xlabel('review_scores_rating');"
   ]
  },
  {
   "cell_type": "code",
   "execution_count": 764,
   "metadata": {},
   "outputs": [
    {
     "data": {
      "text/plain": [
       "<matplotlib.axes._subplots.AxesSubplot at 0x1e2302b68d0>"
      ]
     },
     "execution_count": 764,
     "metadata": {},
     "output_type": "execute_result"
    },
    {
     "data": {
      "image/png": "[encoded data removed]",
      "text/plain": [
       "<Figure size 360x360 with 1 Axes>"
      ]
     },
     "metadata": {},
     "output_type": "display_data"
    }
   ],
   "source": [
    "listing[['reviews_per_month']].plot.hist(bins=20)"
   ]
  },
  {
   "cell_type": "code",
   "execution_count": 765,
   "metadata": {},
   "outputs": [
    {
     "data": {
      "text/plain": [
       "<matplotlib.axes._subplots.AxesSubplot at 0x1e23a326c50>"
      ]
     },
     "execution_count": 765,
     "metadata": {},
     "output_type": "execute_result"
    },
    {
     "data": {
      "image/png": "[encoded data removed]",
      "text/plain": [
       "<Figure size 360x360 with 1 Axes>"
      ]
     },
     "metadata": {},
     "output_type": "display_data"
    }
   ],
   "source": [
    "listing[['Occupancy_index']].plot.hist(bins=20)"
   ]
  },
  {
   "cell_type": "markdown",
   "metadata": {},
   "source": [
    "Create a figure with boxplot that display the distribution of mean squared error and r-squared values."
   ]
  },
  {
   "cell_type": "code",
   "execution_count": 766,
   "metadata": {},
   "outputs": [
    {
     "data": {
      "text/plain": [
       "535.5359999999998"
      ]
     },
     "execution_count": 766,
     "metadata": {},
     "output_type": "execute_result"
    },
    {
     "data": {
      "image/png": "[encoded data removed]",
      "text/plain": [
       "<Figure size 360x360 with 1 Axes>"
      ]
     },
     "metadata": {},
     "output_type": "display_data"
    }
   ],
   "source": [
    "listing.boxplot(column='Occupancy_index')\n",
    "listing['Occupancy_index'].quantile(0.9)"
   ]
  },
  {
   "cell_type": "code",
   "execution_count": 767,
   "metadata": {},
   "outputs": [
    {
     "data": {
      "text/plain": [
       "0.71"
      ]
     },
     "execution_count": 767,
     "metadata": {},
     "output_type": "execute_result"
    },
    {
     "data": {
      "image/png": "[encoded data removed]",
      "text/plain": [
       "<Figure size 360x360 with 1 Axes>"
      ]
     },
     "metadata": {},
     "output_type": "display_data"
    }
   ],
   "source": [
    "listing.boxplot(column='reviews_per_month')\n",
    "listing['reviews_per_month'].quantile(0.25)"
   ]
  },
  {
   "cell_type": "code",
   "execution_count": 768,
   "metadata": {},
   "outputs": [],
   "source": [
    "listing['price'] = pd.to_numeric(listing['price'].str.lstrip('$').str.replace(\",\",\"\"))\n",
    "listing['price_per_guest'] = listing['price'] / listing['guests_included']"
   ]
  },
  {
   "cell_type": "code",
   "execution_count": 769,
   "metadata": {},
   "outputs": [],
   "source": [
    "low_occupancy_listing = listing[listing['Occupancy_index'] < 65.66000000000001]\n",
    "high_occupancy_listing = listing[listing['Occupancy_index'] > 535.5359999999998]"
   ]
  },
  {
   "cell_type": "code",
   "execution_count": 770,
   "metadata": {},
   "outputs": [],
   "source": [
    "low_occupancy = low_occupancy_listing[['property_type', 'Occupancy_index']].groupby(['property_type']).count().sort_values(by = ['Occupancy_index'], ascending = False)\n",
    "high_occupancy = high_occupancy_listing[['property_type', 'Occupancy_index']].groupby(['property_type']).count().sort_values(by = ['Occupancy_index'], ascending = False)"
   ]
  },
  {
   "cell_type": "code",
   "execution_count": 771,
   "metadata": {},
   "outputs": [
    {
     "data": {
      "text/html": [
       "<iframe id=\"igraph\" scrolling=\"no\" style=\"border:none;\" seamless=\"seamless\" src=\"https://plot.ly/~nomooncry/6.embed\" height=\"525px\" width=\"100%\"></iframe>"
      ],
      "text/plain": [
       "<plotly.tools.PlotlyDisplay object>"
      ]
     },
     "execution_count": 771,
     "metadata": {},
     "output_type": "execute_result"
    }
   ],
   "source": [
    "from plotly import tools\n",
    "import plotly.plotly as py\n",
    "import plotly.graph_objs as go\n",
    "\n",
    "High_Occupancy = go.Bar(\n",
    "    x=high_occupancy.index.values,\n",
    "    y=high_occupancy.Occupancy_index.values,\n",
    "    name = 'High Occupancy'\n",
    ")\n",
    "\n",
    "Low_Occupancy = go.Bar(\n",
    "    x=low_occupancy.index.values,\n",
    "    y=low_occupancy.Occupancy_index.values,\n",
    "    xaxis='x2',\n",
    "    yaxis='y2',\n",
    "    name = 'Low Occupancy'\n",
    ")\n",
    "\n",
    "\n",
    "data = [High_Occupancy, Low_Occupancy]\n",
    "\n",
    "layout = go.Layout(\n",
    "    xaxis=dict(\n",
    "        domain=[0, 0.45]\n",
    "    ),\n",
    "    yaxis=dict(\n",
    "        domain=[0, 1]\n",
    "    ),\n",
    "    xaxis2=dict(\n",
    "        domain=[0.55, 1]\n",
    "    ),\n",
    "    yaxis2=dict(\n",
    "        domain=[0, 1],\n",
    "        anchor='x2'\n",
    "    )\n",
    ")\n",
    "\n",
    "fig = go.Figure(data=data, layout=layout)\n",
    "fig['layout'].update(title='High Occupancy vs Low Occupancy by Property Type')\n",
    "py.iplot(fig, filename='text-hover-bar')"
   ]
  },
  {
   "cell_type": "code",
   "execution_count": 772,
   "metadata": {},
   "outputs": [
    {
     "data": {
      "text/html": [
       "<iframe id=\"igraph\" scrolling=\"no\" style=\"border:none;\" seamless=\"seamless\" src=\"https://plot.ly/~nomooncry/6.embed\" height=\"525px\" width=\"100%\"></iframe>"
      ],
      "text/plain": [
       "<plotly.tools.PlotlyDisplay object>"
      ]
     },
     "execution_count": 772,
     "metadata": {},
     "output_type": "execute_result"
    }
   ],
   "source": [
    "High_Occupancy = go.Histogram(\n",
    "    x=high_occupancy_listing['price_per_guest'].values,\n",
    "    nbinsx = 30,\n",
    "    name = 'High Occupancy'\n",
    ")\n",
    "\n",
    "Low_Occupancy = go.Histogram(\n",
    "    x=low_occupancy_listing['price_per_guest'].values,\n",
    "    xaxis='x2',\n",
    "    yaxis='y2',\n",
    "    nbinsx = 30,\n",
    "    name = 'Low Occupancy'\n",
    ")\n",
    "\n",
    "\n",
    "data = [High_Occupancy, Low_Occupancy]\n",
    "\n",
    "layout = go.Layout(\n",
    "    xaxis=dict(\n",
    "        domain=[0, 0.45]\n",
    "    ),\n",
    "    yaxis=dict(\n",
    "        domain=[0, 1]\n",
    "    ),\n",
    "    xaxis2=dict(\n",
    "        domain=[0.55, 1]\n",
    "    ),\n",
    "    yaxis2=dict(\n",
    "        domain=[0, 1],\n",
    "        anchor='x2'\n",
    "    )\n",
    ")\n",
    "\n",
    "fig = go.Figure(data=data, layout=layout)\n",
    "fig['layout'].update(title='High Occupancy vs Low Occupancy by Property Type')\n",
    "py.iplot(fig, filename='text-hover-bar')"
   ]
  },
  {
   "cell_type": "markdown",
   "metadata": {},
   "source": [
    "## Use Lasso, Ridge and ElasticNet for variable selection"
   ]
  },
  {
   "cell_type": "code",
   "execution_count": 773,
   "metadata": {},
   "outputs": [],
   "source": [
    "from sklearn.feature_selection import SelectFromModel\n",
    "from sklearn.linear_model import Ridge, Lasso, ElasticNet\n",
    "from sklearn.model_selection import train_test_split\n",
    "from sklearn.metrics import mean_squared_error"
   ]
  },
  {
   "cell_type": "code",
   "execution_count": 774,
   "metadata": {},
   "outputs": [],
   "source": [
    "Airbnb.fillna(0, inplace = True)\n",
    "y = Airbnb['Occupancy_index']\n",
    "X = Airbnb.drop('Occupancy_index', axis = 1)\n",
    "X_train, X_test, y_train, y_test = train_test_split(X, y, test_size=0.3, random_state=42)"
   ]
  },
  {
   "cell_type": "code",
   "execution_count": 775,
   "metadata": {},
   "outputs": [
    {
     "name": "stderr",
     "output_type": "stream",
     "text": [
      "E:\\Anaconda3\\lib\\site-packages\\sklearn\\linear_model\\ridge.py:125: LinAlgWarning:\n",
      "\n",
      "scipy.linalg.solve\n",
      "Ill-conditioned matrix detected. Result is not guaranteed to be accurate.\n",
      "Reciprocal condition number8.287069e-20\n",
      "\n"
     ]
    }
   ],
   "source": [
    "ridge = Ridge()\n",
    "ridge.fit(X, y)\n",
    "model = SelectFromModel(ridge, prefit=True)\n",
    "X_new = model.transform(X)\n",
    "\n",
    "feature_idx = model.get_support()\n",
    "ridge_feature_name = X.columns[feature_idx]"
   ]
  },
  {
   "cell_type": "code",
   "execution_count": 776,
   "metadata": {},
   "outputs": [],
   "source": [
    "lasso = Lasso()\n",
    "lasso.fit(X, y)\n",
    "model = SelectFromModel(lasso, prefit=True)\n",
    "X_new = model.transform(X)\n",
    "feature_idx = model.get_support()\n",
    "lasso_feature_name = X.columns[feature_idx]"
   ]
  },
  {
   "cell_type": "code",
   "execution_count": 777,
   "metadata": {},
   "outputs": [],
   "source": [
    "elastic = ElasticNet()\n",
    "elastic.fit(X, y)\n",
    "model = SelectFromModel(elastic, prefit=True)\n",
    "X_new = model.transform(X)\n",
    "feature_idx = model.get_support()\n",
    "elasticnet_feature_name = X.columns[feature_idx]"
   ]
  },
  {
   "cell_type": "code",
   "execution_count": 778,
   "metadata": {},
   "outputs": [],
   "source": [
    "from sklearn.tree import DecisionTreeRegressor\n",
    "from sklearn.model_selection import cross_val_score"
   ]
  },
  {
   "cell_type": "code",
   "execution_count": 779,
   "metadata": {},
   "outputs": [
    {
     "name": "stdout",
     "output_type": "stream",
     "text": [
      "RMSE:207.7839288482635\n"
     ]
    }
   ],
   "source": [
    "rtree = DecisionTreeRegressor()\n",
    "rmse = np.sqrt(-np.mean(cross_val_score(rtree, X, y, scoring = 'neg_mean_squared_error', cv=10)))\n",
    "print('RMSE:{}'.format(rmse))"
   ]
  },
  {
   "cell_type": "code",
   "execution_count": 780,
   "metadata": {},
   "outputs": [
    {
     "name": "stdout",
     "output_type": "stream",
     "text": [
      "lasso RMSE:204.0569668727036\n"
     ]
    }
   ],
   "source": [
    "rtree = DecisionTreeRegressor()\n",
    "rmse = np.sqrt(-np.mean(cross_val_score(rtree, X[lasso_feature_name ], y, scoring = 'neg_mean_squared_error', cv=10)))\n",
    "print('lasso RMSE:{}'.format(rmse))"
   ]
  },
  {
   "cell_type": "code",
   "execution_count": 781,
   "metadata": {},
   "outputs": [
    {
     "name": "stdout",
     "output_type": "stream",
     "text": [
      "ridge RMSE:216.92362095347576\n"
     ]
    }
   ],
   "source": [
    "rtree = DecisionTreeRegressor()\n",
    "rmse = np.sqrt(-np.mean(cross_val_score(rtree, X[ridge_feature_name], y, scoring = 'neg_mean_squared_error', cv=10)))\n",
    "print('ridge RMSE:{}'.format(rmse))"
   ]
  },
  {
   "cell_type": "code",
   "execution_count": 782,
   "metadata": {},
   "outputs": [
    {
     "name": "stdout",
     "output_type": "stream",
     "text": [
      "elasticnet RMSE:221.99969748100045\n"
     ]
    }
   ],
   "source": [
    "rtree = DecisionTreeRegressor()\n",
    "rmse = np.sqrt(-np.mean(cross_val_score(rtree, X[elasticnet_feature_name], y, scoring = 'neg_mean_squared_error', cv=10)))\n",
    "print('elasticnet RMSE:{}'.format(rmse))"
   ]
  },
  {
   "cell_type": "markdown",
   "metadata": {},
   "source": [
    "### Lasso Regression score the best!\n",
    "#### Feature Importance"
   ]
  },
  {
   "cell_type": "code",
   "execution_count": 783,
   "metadata": {},
   "outputs": [
    {
     "data": {
      "text/html": [
       "<div>\n",
       "<style scoped>\n",
       "    .dataframe tbody tr th:only-of-type {\n",
       "        vertical-align: middle;\n",
       "    }\n",
       "\n",
       "    .dataframe tbody tr th {\n",
       "        vertical-align: top;\n",
       "    }\n",
       "\n",
       "    .dataframe thead th {\n",
       "        text-align: right;\n",
       "    }\n",
       "</style>\n",
       "<table border=\"1\" class=\"dataframe\">\n",
       "  <thead>\n",
       "    <tr style=\"text-align: right;\">\n",
       "      <th></th>\n",
       "      <th>feature_name</th>\n",
       "      <th>feature_importance</th>\n",
       "    </tr>\n",
       "  </thead>\n",
       "  <tbody>\n",
       "    <tr>\n",
       "      <th>22</th>\n",
       "      <td>months_since_last_review</td>\n",
       "      <td>0.393602</td>\n",
       "    </tr>\n",
       "    <tr>\n",
       "      <th>15</th>\n",
       "      <td>minimum_nights</td>\n",
       "      <td>0.081819</td>\n",
       "    </tr>\n",
       "    <tr>\n",
       "      <th>12</th>\n",
       "      <td>cleaning_fee</td>\n",
       "      <td>0.043016</td>\n",
       "    </tr>\n",
       "    <tr>\n",
       "      <th>2</th>\n",
       "      <td>host_listings_count</td>\n",
       "      <td>0.035924</td>\n",
       "    </tr>\n",
       "    <tr>\n",
       "      <th>21</th>\n",
       "      <td>host_years</td>\n",
       "      <td>0.034954</td>\n",
       "    </tr>\n",
       "  </tbody>\n",
       "</table>\n",
       "</div>"
      ],
      "text/plain": [
       "                feature_name  feature_importance\n",
       "22  months_since_last_review            0.393602\n",
       "15            minimum_nights            0.081819\n",
       "12              cleaning_fee            0.043016\n",
       "2        host_listings_count            0.035924\n",
       "21                host_years            0.034954"
      ]
     },
     "execution_count": 783,
     "metadata": {},
     "output_type": "execute_result"
    }
   ],
   "source": [
    "rtree = DecisionTreeRegressor()\n",
    "rtree.fit(X[lasso_feature_name], y)\n",
    "Feature_importance = pd.DataFrame({'feature_name':lasso_feature_name.values, 'feature_importance':rtree.feature_importances_})\n",
    "Feature_importance.nlargest(5, 'feature_importance')"
   ]
  },
  {
   "cell_type": "code",
   "execution_count": 786,
   "metadata": {},
   "outputs": [],
   "source": [
    "from sklearn import tree\n",
    "tree.export_graphviz(rtree, out_file='tree.dot', max_depth = 2, feature_names = lasso_feature_name.values)"
   ]
  },
  {
   "cell_type": "code",
   "execution_count": 663,
   "metadata": {},
   "outputs": [],
   "source": [
    "import xgboost as xgb\n",
    "from sklearn.metrics import mean_squared_error"
   ]
  },
  {
   "cell_type": "code",
   "execution_count": 684,
   "metadata": {},
   "outputs": [
    {
     "data": {
      "text/plain": [
       "157.79654056944779"
      ]
     },
     "execution_count": 684,
     "metadata": {},
     "output_type": "execute_result"
    }
   ],
   "source": [
    "xg_reg = xgb.XGBRegressor(objective ='reg:linear', colsample_bytree = 1, learning_rate = 0.45,\n",
    "                max_depth = 300, alpha = 10, n_estimators = 15)\n",
    "xg_reg.fit(X_train,y_train)\n",
    "preds = xg_reg.predict(X_test)\n",
    "rmse = np.sqrt(mean_squared_error(y_test, preds))\n",
    "rmse"
   ]
  },
  {
   "cell_type": "code",
   "execution_count": 787,
   "metadata": {},
   "outputs": [
    {
     "data": {
      "image/png": "[encoded data removed]",
      "text/plain": [
       "<Figure size 360x360 with 1 Axes>"
      ]
     },
     "metadata": {},
     "output_type": "display_data"
    }
   ],
   "source": [
    "xgb.plot_importance(xg_reg, max_num_features=10, importance_type='cover', title = \"Feature Importance by Cover\")\n",
    "plt.rcParams['figure.figsize'] = [5, 5]\n",
    "plt.show()"
   ]
  },
  {
   "cell_type": "code",
   "execution_count": 788,
   "metadata": {},
   "outputs": [
    {
     "data": {
      "image/png": "[encoded data removed]",
      "text/plain": [
       "<Figure size 360x360 with 1 Axes>"
      ]
     },
     "metadata": {},
     "output_type": "display_data"
    }
   ],
   "source": [
    "xgb.plot_importance(xg_reg, max_num_features=10, importance_type='weight', title = \"Feature Importance by weight\")\n",
    "plt.rcParams['figure.figsize'] = [5, 5]\n",
    "plt.show()"
   ]
  },
  {
   "cell_type": "code",
   "execution_count": null,
   "metadata": {},
   "outputs": [],
   "source": []
  }
 ],
 "metadata": {
  "kernelspec": {
   "display_name": "Python 3",
   "language": "python",
   "name": "python3"
  },
  "language_info": {
   "codemirror_mode": {
    "name": "ipython",
    "version": 3
   },
   "file_extension": ".py",
   "mimetype": "text/x-python",
   "name": "python",
   "nbconvert_exporter": "python",
   "pygments_lexer": "ipython3",
   "version": "3.6.5"
  }
 },
 "nbformat": 4,
 "nbformat_minor": 2
}
